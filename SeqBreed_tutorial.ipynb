{
 "cells": [
  {
   "cell_type": "markdown",
   "metadata": {},
   "source": [
    "## SeqBreed: a python tool to evaluate genomic prediction in complex scenarios\n",
    "\n",
    "### Miguel Perez-Enciso  (miguel.perez@uab.es)\n",
    "\n",
    "#### With contributions from:\n",
    "Laura M Zingaretti (m.lau.zingaretti@gmail.com), Lino Ramirez-Ayala (linocesar.ramirez@cragenomica.es)"
   ]
  },
  {
   "cell_type": "markdown",
   "metadata": {},
   "source": [
    "\n",
    "**SeqBreed is a general python3 software to simulate populations under genomic selection.** \n",
    "It inherits most of funcionality from SBVB (https://github.com/miguelperezenciso/sbvb1, doi:10.1534/g3.118.200942) software but is much more user friendly and adds numerous new features such as easy selection implementation or plots.\n",
    "\n",
    "Its original target is to simulate genomic selection experiments but can be used as well to study the performance of GWAS or in general study the dynamics of complex traits under numerous selective scenarios: mass selection, BLUP, GBLUP and single step GBLUP are currently implemented.\n",
    "\n",
    "It can accommodate any number of complex phenotypes controlled by an arbitrary number of loci (epistasis is not currently implemented though). Both strict autopolyploid and strict allopolyploid genomes can be considered."
   ]
  },
  {
   "cell_type": "markdown",
   "metadata": {},
   "source": [
    "### Main features: \n",
    "- Any number of traits.\n",
    "- Any number of QTNs, trait specific.\n",
    "- Any number of additive and dominant effects.\n",
    "- Computes genomic relationship matrices for any number of SNP arrays simultaneously.\n",
    "- It allows for polyploids\n",
    "- Any number of chromosomes, allows for sex, MT chromosomes and varying local recombination rates, that can be sex specific.\n",
    "- GWAS and PCA plots on arbitrary SNP sets\n",
    "- Allows general study the dynamics of complex traits under numerous selective scenarios: mass selection, BLUP, GBLUP and single step GBLUP are currently implemented.\n",
    "- Easy implementation of selection cycles with several evaluation criteria\n",
    "- ..."
   ]
  },
  {
   "cell_type": "code",
   "execution_count": 1,
   "metadata": {},
   "outputs": [],
   "source": [
    "# Requirements\n",
    "# scipy\n",
    "# numpy\n",
    "# pandas\n",
    "# os\n",
    "# sys\n",
    "# cython\n",
    "# seaborn\n",
    "# matplotlib\n",
    "# scilearn\n",
    "# statsmodels\n",
    "\n",
    "# sudo python3 -m pip install scipy\n",
    "# sudo python3 -m pip install numpy\n",
    "# sudo python3 -m pip install pandas\n",
    "# sudo python3 -m pip install os\n",
    "# sudo python3 -m pip install sys\n",
    "# sudo python3 -m pip install seaborn\n",
    "# sudo python3 -m pip install gzip\n",
    "# sudo python3 -m pip install pickle\n",
    "# sudo python3 -m pip install matplotlib\n",
    "# sudo python3 -m pip install scilearn\n",
    "# sudo python3 -m pip install statsmodels"
   ]
  },
  {
   "cell_type": "code",
   "execution_count": 2,
   "metadata": {},
   "outputs": [],
   "source": [
    "# INSTALL\n",
    "# clone repository\n",
    "# sudo python3 -m pip install SeqBreed-XXX.whl (From local)"
   ]
  },
  {
   "cell_type": "markdown",
   "metadata": {},
   "source": [
    "### Input\n",
    "\n",
    "- SeqBreed.py minimally requires:\n",
    "    * Genotype file in vcf format (https://en.wikipedia.org/wiki/Variant_Call_Format).\n",
    "    \n",
    "- Optionally:\n",
    "    * File with (sex) specific recombination maps: sex and mitochondrial chromosomes can be specified. Auto polyploid genomes can also be specified.\n",
    "    * A starting pedigree.\n",
    "    * A file with causal SNPs and their effects on each trait\n",
    "    * One or more lists of SNPs for each genotyping chip(s)\n"
   ]
  },
  {
   "cell_type": "markdown",
   "metadata": {},
   "source": [
    "### Usage: test example"
   ]
  },
  {
   "cell_type": "code",
   "execution_count": 15,
   "metadata": {},
   "outputs": [],
   "source": [
    "import numpy as np\n",
    "import sys\n",
    "import matplotlib.pyplot as plt\n",
    "import os\n",
    "import copy\n",
    "from SeqBreed import genome as gg\n",
    "from SeqBreed.selection import selection as sel"
   ]
  },
  {
   "cell_type": "markdown",
   "metadata": {},
   "source": [
    "### Modify folder and file names to suit your data"
   ]
  },
  {
   "cell_type": "code",
   "execution_count": 23,
   "metadata": {},
   "outputs": [],
   "source": [
    "#--> some folders\n",
    "# input file directory \n",
    "ddir=os.getcwd()\n",
    "# working directory\n",
    "wdir=ddir # or choose an empty new one\n",
    "\n",
    "#--> Input files\n",
    "# pedigree file\n",
    "pedfile = ddir+'/test.ped'\n",
    "# List of files with SNP posiitons from two chips, sequence can be included from seqfile (see below)\n",
    "chipfiles = [ ddir+'/chr1.pos',  ddir+'/chip2.pos'] \n",
    "# contains qtn positions only\n",
    "qtnfile1 = ddir+'/qtn1.pos'\n",
    "# contains qtn positions and effects for two phenotypes\n",
    "qtnfile2 = ddir+'/qtn2.pos'\n",
    "# recombination map file\n",
    "mapfile = ddir+'/map.txt'\n",
    "# snp file in vcf format\n",
    "vcffile = ddir+'/f.vcf.gz'\n",
    "\n",
    "# goto working directory\n",
    "os.chdir(wdir)\n",
    "\n",
    "# seqfile contains snp positions from vcf (to be generated in next step)\n",
    "seqfile = 'seq.pos'\n"
   ]
  },
  {
   "cell_type": "code",
   "execution_count": 17,
   "metadata": {
    "scrolled": true
   },
   "outputs": [
    {
     "name": "stdout",
     "output_type": "stream",
     "text": [
      "ploidy: 2\n",
      "N base: 65\n",
      "N snps: 187\n"
     ]
    }
   ],
   "source": [
    "# uploads genotypes and generates snp positions\n",
    "gbase = gg.GFounder(vcfFile=vcffile, snpFile=seqfile)"
   ]
  },
  {
   "cell_type": "code",
   "execution_count": 18,
   "metadata": {},
   "outputs": [
    {
     "name": "stdout",
     "output_type": "stream",
     "text": [
      "65\n",
      "2\n"
     ]
    }
   ],
   "source": [
    "# no. of founder individuals and ploidy\n",
    "print(gbase.nbase)\n",
    "print(gbase.ploidy)"
   ]
  },
  {
   "cell_type": "code",
   "execution_count": 19,
   "metadata": {
    "scrolled": true
   },
   "outputs": [],
   "source": [
    "# generates Genome object with chr names, recombination map, etc\n",
    "# 'X, 'Y' and 'MT' are keywords to specify sex and mt chrs, if present. \n",
    "# The chr name used in vcf is the one to be used\n",
    "# requires snpFile generated in previous step, which simply stores snp positions\n",
    "gfeatures = gg.Genome(snpFile=seqfile, mapFile=mapfile, ploidy=gbase.ploidy,  XChr='X', YChr='Y', MTChr='MT')"
   ]
  },
  {
   "cell_type": "code",
   "execution_count": 20,
   "metadata": {},
   "outputs": [
    {
     "name": "stdout",
     "output_type": "stream",
     "text": [
      "GENOME FEATURES (ploidy = 2)\n",
      "Chr  Type   bplength    Nsnps length_m length_f\n",
      "1  Autos  4507452 88 [0.044576951704790146, 0.04457485568672105]\n",
      "10  Autos  78614306 99 [0.7821531605816539, 0.78214306]\n",
      "All        83121758  187 [0.82673011 0.82671792]\n",
      "\n"
     ]
    }
   ],
   "source": [
    "# prints some basic info\n",
    "gfeatures.print()"
   ]
  },
  {
   "cell_type": "markdown",
   "metadata": {},
   "source": [
    "### QTNs can be generated in several ways\n",
    "* read or simulate qtn information\n",
    "* h2 MUST be an array with dimension number of traits "
   ]
  },
  {
   "cell_type": "code",
   "execution_count": 24,
   "metadata": {},
   "outputs": [
    {
     "name": "stdout",
     "output_type": "stream",
     "text": [
      "QTN file  does not exist or not specified!\n",
      "QTN effects and positions randomly sampled\n"
     ]
    }
   ],
   "source": [
    "# OPTION 1: A random number of nqtn=20 additive qtls genome wide distributed,\n",
    "# additive effects are sampled from a gamma, valid only for one phenotype\n",
    "qtn1 = gg.QTNs(h2=[0.5], genome=gfeatures, nqtn=10)"
   ]
  },
  {
   "cell_type": "code",
   "execution_count": 25,
   "metadata": {},
   "outputs": [
    {
     "name": "stdout",
     "output_type": "stream",
     "text": [
      "ULL: no qtn effects defined in qtnFile and to be simulated from gamma\n"
     ]
    }
   ],
   "source": [
    "# OPTION 2: only qtn positions are read from qtnFile, no genetic effects in qtnFile\n",
    "# add effects are sampled form a gamma\n",
    "# h2 should be an array with dimension one, valid only for one phenotype\n",
    "qtn2 = gg.QTNs(h2=[0.5], genome=gfeatures, qtnFile=qtnfile1)"
   ]
  },
  {
   "cell_type": "code",
   "execution_count": 26,
   "metadata": {},
   "outputs": [],
   "source": [
    "# OPTION 3: qtn positions and effects are read from qtnFile\n",
    "# h2 should be an array with dimension # of effects, here two effects of h2 0.5 & 0.3\n",
    "qtn3 = gg.QTNs(h2=[0.5, 0.3], genome=gfeatures, qtnFile=qtnfile2)"
   ]
  },
  {
   "cell_type": "code",
   "execution_count": 27,
   "metadata": {},
   "outputs": [
    {
     "name": "stdout",
     "output_type": "stream",
     "text": [
      "#h2 by trait 0.5\n",
      "#se undefined\n",
      "10 76435075 0.008 0.0013903228941866774 0.0 2.9509669794420225e-08 0.0\n",
      "10 76773395 0.008 -0.2531101653398094 0.0 0.0009780299997617266 0.0\n",
      "10 77100548 0.385 0.1011482228913721 0.0 0.0048430594054829305 0.0\n",
      "10 77324298 0.554 0.00577729364460845 0.0 1.6495013120804092e-05 0.0\n",
      "10 77391366 0.023 0.03403207075022133 0.0 5.222097998435677e-05 0.0\n",
      "10 77392054 0.338 0.5874654132157957 0.0 0.15454644671794845 0.0\n",
      "\n",
      "\n"
     ]
    },
    {
     "data": {
      "image/png": "[encoded data removed]",
      "text/plain": [
       "<Figure size 432x288 with 6 Axes>"
      ]
     },
     "metadata": {
      "needs_background": "light"
     },
     "output_type": "display_data"
    }
   ],
   "source": [
    "# For the remaining, let us assume we use qtn2\n",
    "qtn = copy.deepcopy(qtn2)\n",
    "\n",
    "# get add and dom variance per locus, assuming equilibrium\n",
    "qtn.get_var(gfeatures,gbase)\n",
    "\n",
    "# print and plot main qtn features\n",
    "qtn.print(gfeatures)\n",
    "print()\n",
    "qtn.plot()"
   ]
  },
  {
   "cell_type": "code",
   "execution_count": null,
   "metadata": {},
   "outputs": [],
   "source": [
    "### Chipfiles can also be generated in several ways\n",
    "* chipfiles contains list of chips \n",
    "* sequence is an additional chip \n",
    "* The next example shows how to generate chip objects "
   ]
  },
  {
   "cell_type": "code",
   "execution_count": 11,
   "metadata": {},
   "outputs": [
    {
     "name": "stdout",
     "output_type": "stream",
     "text": [
      "CHIP FEATURES /home/miguel/PycharmProjects/sbvb/test/chip1.txt_chip\n",
      "Chr\tNsnps\tFirst posns ... Last\n",
      "1\t12\t\t574037 796445 985857 2912915 3019705 ... 3539284\n",
      "10\t8\t\t76085519 76435075 76773395 77100548 77324298 ... 77673767\n",
      "All 20\n",
      "\n",
      "\n",
      "CHIP FEATURES /home/miguel/PycharmProjects/sbvb/test/chip2.txt_chip\n",
      "Chr\tNsnps\tFirst posns ... Last\n",
      "1\t13\t\t2548176 2816685 3034045 3093658 3205508 ... 4237238\n",
      "10\t17\t\t76328247 76592802 76646882 76668634 77084251 ... 78614306\n",
      "All 30\n",
      "\n",
      "\n",
      "CHIP FEATURES gfeature.txt_chip\n",
      "Chr\tNsnps\tFirst posns ... Last\n",
      "1\t88\t\t253230 342481 547671 548397 574037 ... 4507452\n",
      "10\t99\t\t75143812 75168060 75591000 75631917 75648459 ... 78614306\n",
      "All 187\n",
      "\n",
      "\n",
      "CHIP FEATURES chip_unif\n",
      "Chr\tNsnps\tFirst posns ... Last\n",
      "1\t6\t\t253230 2540247 3007286 3520202 3804104 ... 4199433\n",
      "10\t5\t\t76586207 77116769 77441988 77813185 78312200 ... 78312200\n",
      "All 11\n",
      "\n",
      "\n",
      "CHIP FEATURES chip_random\n",
      "Chr\tNsnps\tFirst posns ... Last\n",
      "1\t12\t\t2172489 2912915 2957778 3055534 3205508 ... 4170607\n",
      "10\t18\t\t75168060 76156630 76373320 76428252 76773395 ... 78598392\n",
      "All 30\n",
      "\n",
      "\n"
     ]
    }
   ],
   "source": [
    "# sequence is just another chip with all positions, seqfile contains vcf positions\n",
    "chipfiles.append(seqfile)\n",
    "\n",
    "# OPTION 1: generate chip objects from predefined lists of positions\n",
    "chips = []\n",
    "for file in chipfiles:\n",
    "    chip = gg.Chip(chipFile=file, genome=gfeatures, name=file+'_chip')\n",
    "    chips.append(chip) # chips is a list containing all chips\n",
    "\n",
    "# chips can also be generated from equally spaced SNPs or randomly\n",
    "# OPTION 2: here the program generates a chip with 10 equally spaced SNPs with MAF>0.10\n",
    "chip = gg.Chip(gfeatures, gbase, nsnp=10, unif=True, minMaf=0.1, name='chip_')\n",
    "chips.append(chip)\n",
    "\n",
    "# OPTION 3: or with 30 randomly spaced SNPs, any MAF\n",
    "chip = gg.Chip(gfeatures, gbase, nsnp=30, unif=False, name='chip_')\n",
    "chips.append(chip)\n",
    "\n",
    "# prints chip summary\n",
    "for chip in chips:\n",
    "    chip.print(gfeatures) "
   ]
  },
  {
   "cell_type": "markdown",
   "metadata": {},
   "source": [
    "### Generating genomes through pedigree\n",
    "* Here genotypic values and phenotypes are generated for all indivs in pedfile\n",
    "* This step also computes enviromental variance (VE) using actual genotypes found in the base population\n"
   ]
  },
  {
   "cell_type": "code",
   "execution_count": 45,
   "metadata": {},
   "outputs": [
    {
     "name": "stdout",
     "output_type": "stream",
     "text": [
      "No. of individuals is 65\n"
     ]
    }
   ],
   "source": [
    "pop = gg.Population(gfeatures, pedFile=None, qtns=qtn, gfounders=gbase)\n",
    "print('No. of individuals is '+str(len(pop.inds)))"
   ]
  },
  {
   "cell_type": "code",
   "execution_count": 46,
   "metadata": {
    "scrolled": true
   },
   "outputs": [
    {
     "name": "stdout",
     "output_type": "stream",
     "text": [
      "#h2 by trait 0.5\n",
      "#se by trait 0.5096646520033327\n",
      "#CHR POS FRQ ADD_0 DOM_0 VA_0 VD_0\n",
      "10 76435075 0.008 0.0013903228941866774 0.0 2.9509669794420225e-08 0.0\n",
      "10 76773395 0.008 -0.2531101653398094 0.0 0.0009780299997617266 0.0\n",
      "10 77100548 0.385 0.1011482228913721 0.0 0.0048430594054829305 0.0\n",
      "10 77324298 0.554 0.00577729364460845 0.0 1.6495013120804092e-05 0.0\n",
      "10 77391366 0.023 0.03403207075022133 0.0 5.222097998435677e-05 0.0\n",
      "10 77392054 0.338 0.5874654132157957 0.0 0.15454644671794845 0.0\n",
      "\n",
      "Ind Parents sex: 65 0 0  1\n",
      "Y  g_add  g_dom: 0.2087885122639888 -0.36977764152039433 0.0\n",
      " Chr 1\n",
      "   Pos [4507452]\n",
      "   ori [128]\n",
      "   Isnp [88]\n",
      "   Pos [4507452]\n",
      "   ori [129]\n",
      "   Isnp [88]\n",
      " Chr 10\n",
      "   Pos [78614306]\n",
      "   ori [128]\n",
      "   Isnp [99]\n",
      "   Pos [78614306]\n",
      "   ori [129]\n",
      "   Isnp [99]\n",
      "\n",
      "\n"
     ]
    }
   ],
   "source": [
    "# Indiv and pop info can be accessed\n",
    "pop.print('pop.out')          # prints pop info in file 'pop.out'\n",
    "qtn.print(gfeatures)          # prints qtn info again, now contains standard environmental deviation (se)\n",
    "pop.inds[-1].print(gfeatures) # prints summary of last individual, incl recombination blocks"
   ]
  },
  {
   "cell_type": "code",
   "execution_count": 47,
   "metadata": {},
   "outputs": [
    {
     "name": "stdout",
     "output_type": "stream",
     "text": [
      "y, add_value, dom_value, ebvb\n",
      "[[ 0.75319383  0.11653955  0.11653955         nan]\n",
      " [ 0.02602722 -0.47670316 -0.47670316         nan]\n",
      " [ 0.56999173  0.9120787   0.9120787          nan]\n",
      " [-1.18815644 -0.47670316 -0.47670316         nan]\n",
      " [-0.3484147  -0.47670316 -0.47670316         nan]\n",
      " [-0.35379635 -0.47670316 -0.47670316         nan]\n",
      " [-0.24744302 -0.47670316 -0.47670316         nan]\n",
      " [ 0.75384256  0.21768777  0.21768777         nan]\n",
      " [-0.8261273  -0.47670316 -0.47670316         nan]\n",
      " [-0.03384239  0.11653955  0.11653955         nan]]\n",
      "\n",
      "Last 10 individuals\n",
      "[[56  0  0]\n",
      " [57  0  0]\n",
      " [58  0  0]\n",
      " [59  0  0]\n",
      " [60  0  0]\n",
      " [61  0  0]\n",
      " [62  0  0]\n",
      " [63  0  0]\n",
      " [64  0  0]\n",
      " [65  0  0]]\n"
     ]
    }
   ],
   "source": [
    "# v is an array containing y, add_value, dom_value and ebvb for each indiv\n",
    "v = pop.ivalues()\n",
    "# first 10 inds\n",
    "print('y, add_value, dom_value, ebvb')\n",
    "print(v[:10,:])\n",
    "\n",
    "# the current pedigree in a pop.n x 3 array can be generated as\n",
    "ped = pop.ped()\n",
    "print('\\nLast 10 individuals')\n",
    "print(ped[-10:,:])"
   ]
  },
  {
   "cell_type": "code",
   "execution_count": 48,
   "metadata": {},
   "outputs": [
    {
     "name": "stdout",
     "output_type": "stream",
     "text": [
      "65\n",
      "66\n"
     ]
    }
   ],
   "source": [
    "# pop.addRandomInd function adds a randomly generated individual \n",
    "# Perez-Enciso et al. http://www.genetics.org/content/205/2/939.long, page 949)\n",
    "# mode can be 'pedigree' or 'random'\n",
    "# k specifies number of recombination generations\n",
    "# this option can be used to artificially increase number of founders\n",
    "print(pop.n)\n",
    "pop.addRandomInd(gfeatures, gbase.nbase, k=5, mode='pedigree', qtns=qtn, gfounders=gbase)\n",
    "print(pop.n)"
   ]
  },
  {
   "cell_type": "code",
   "execution_count": 49,
   "metadata": {},
   "outputs": [
    {
     "name": "stdout",
     "output_type": "stream",
     "text": [
      "66\n",
      "67\n",
      "Ind Parents sex: 67 24 1  0\n",
      "Y  g_add  g_dom: 0.2185845809209261 0.12231684244863776 0.0\n",
      " Chr 1\n",
      "   Pos [4507452]\n",
      "   ori [47]\n",
      "   Isnp [88]\n",
      "   Pos [4507452]\n",
      "   ori [1]\n",
      "   Isnp [88]\n",
      " Chr 10\n",
      "   Pos [65761382 78614306]\n",
      "   ori [46 47]\n",
      "   Isnp [ 0 99]\n",
      "   Pos [78614306]\n",
      "   ori [0]\n",
      "   Isnp [99]\n",
      "\n",
      "\n",
      "Ind Parents sex: 67 24 1  0\n",
      "Y  g_add  g_dom: 0.2185845809209261 0.12231684244863776 0.0\n",
      " Chr 1\n",
      "   Pos [4507452]\n",
      "   ori [47]\n",
      "   Isnp [88]\n",
      "   Pos [4507452]\n",
      "   ori [1]\n",
      "   Isnp [88]\n",
      " Chr 10\n",
      "   Pos [65761382 78614306]\n",
      "   ori [46 47]\n",
      "   Isnp [ 0 99]\n",
      "   Pos [78614306]\n",
      "   ori [0]\n",
      "   Isnp [99]\n",
      "\n",
      "\n"
     ]
    }
   ],
   "source": [
    "# pop.addInd function adds offspring of parents \n",
    "id_papa = 23  # father is the 24th individual\n",
    "id_mama = 0   # mother is the first individual\n",
    "id_sex = 0    # it is boy (1 for a girl)\n",
    "id = pop.n+1  # the id will be population size plus one\n",
    "parents = [pop.inds[id_papa], pop.inds[id_mama]]\n",
    "print(pop.n)\n",
    "pop.addInd(parents, gfeatures, id=id, sex=id_sex, qtns=qtn, gfounders=gbase)\n",
    "print(pop.n)\n",
    "# the new individual can be accessed at position pop.n - 1 (which has been automatically updated)\n",
    "pop.inds[pop.n-1].print(gfeatures)\n",
    "# the same as\n",
    "pop.inds[-1].print(gfeatures)"
   ]
  },
  {
   "cell_type": "markdown",
   "metadata": {},
   "source": [
    "### Generating molecular data"
   ]
  },
  {
   "cell_type": "code",
   "execution_count": 34,
   "metadata": {},
   "outputs": [],
   "source": [
    "# generates genotype matrix X (nsnp x nind) for individuals second to 26th\n",
    "# for snp positions in first chip and using only markers with maf > 0.09\n",
    "X = gg.do_X(pop.inds[1:25], gfeatures, gbase, chip=chips[0], minMaf=0.09)"
   ]
  },
  {
   "cell_type": "code",
   "execution_count": 35,
   "metadata": {},
   "outputs": [
    {
     "data": {
      "text/plain": [
       "array([[1., 0., 0., 1., 0., 0., 1., 0., 0., 0.],\n",
       "       [0., 1., 0., 0., 0., 2., 1., 2., 0., 0.],\n",
       "       [0., 0., 0., 0., 0., 0., 0., 0., 0., 0.]])"
      ]
     },
     "execution_count": 35,
     "metadata": {},
     "output_type": "execute_result"
    }
   ],
   "source": [
    "# first genotypes \n",
    "X[0:3,:10]"
   ]
  },
  {
   "cell_type": "markdown",
   "metadata": {},
   "source": [
    "### 2D PCA and GWAS \n",
    "* can be used to inspect molecular data and association signals\n",
    "\n"
   ]
  },
  {
   "cell_type": "code",
   "execution_count": 40,
   "metadata": {},
   "outputs": [
    {
     "data": {
      "image/png": "[encoded data removed]",
      "text/plain": [
       "<Figure size 432x288 with 1 Axes>"
      ]
     },
     "metadata": {
      "needs_background": "light"
     },
     "output_type": "display_data"
    },
    {
     "name": "stdout",
     "output_type": "stream",
     "text": [
      "[[ 3.85383758  2.04747463]\n",
      " [ 3.59325824 -0.8646801 ]\n",
      " [-1.9258014  -0.68423814]\n",
      " [ 5.10775177  2.00220492]\n",
      " [ 1.34549122 -0.24487478]\n",
      " [ 3.43945247  0.7213944 ]\n",
      " [ 2.46948689 -4.11400109]\n",
      " [ 0.19081264 -3.79392851]\n",
      " [ 1.92767972 -2.9912052 ]\n",
      " [ 4.09032796  1.17609932]]\n"
     ]
    },
    {
     "data": {
      "image/png": "[encoded data removed]",
      "text/plain": [
       "<Figure size 432x288 with 1 Axes>"
      ]
     },
     "metadata": {
      "needs_background": "light"
     },
     "output_type": "display_data"
    }
   ],
   "source": [
    "# Returns 2D PCA using sequence data (third chip)\n",
    "X1 = gg.do_X(pop.inds, gfeatures, gbase, chip=chips[2])\n",
    "pca = sel.Pca(X1)\n",
    "pca.fit()\n",
    "pca.plot()\n",
    "pca.plot(plotFile='pca.pdf') # PCA in pdf file\n",
    "\n",
    "# PCA values can be accessed as (eg for first 10 indivs)\n",
    "print(pca.p[:10,:])\n",
    "\n",
    "# Compare PCA with usinng last chip\n",
    "X2 = gg.do_X(pop.inds, gfeatures, gbase, chip=chips[-1])\n",
    "pca = sel.Pca(X2)\n",
    "pca.fit()\n",
    "pca.plot()"
   ]
  },
  {
   "cell_type": "markdown",
   "metadata": {},
   "source": [
    "### Implementing GWAS"
   ]
  },
  {
   "cell_type": "code",
   "execution_count": 43,
   "metadata": {},
   "outputs": [
    {
     "data": {
      "image/png": "[encoded data removed]",
      "text/plain": [
       "<Figure size 432x288 with 1 Axes>"
      ]
     },
     "metadata": {
      "needs_background": "light"
     },
     "output_type": "display_data"
    },
    {
     "data": {
      "image/png": "[encoded data removed]",
      "text/plain": [
       "<Figure size 432x288 with 1 Axes>"
      ]
     },
     "metadata": {
      "needs_background": "light"
     },
     "output_type": "display_data"
    }
   ],
   "source": [
    "# by default, first phenotype\n",
    "gwas = sel.Gwas(X1, chips[2])\n",
    "gwas.fit(inds=pop.inds, trait=0)   \n",
    "gwas.plot()         # plots pvalue\n",
    "gwas.plot(fdr=True) # plots FDR"
   ]
  },
  {
   "cell_type": "markdown",
   "metadata": {},
   "source": [
    "### SELECTION\n",
    "Implementing selection in cycles \n"
   ]
  },
  {
   "cell_type": "code",
   "execution_count": 62,
   "metadata": {},
   "outputs": [],
   "source": [
    "# current pop is saved as pop0\n",
    "pop0 = copy.deepcopy(pop)\n",
    "\n",
    "# First let us specify selection intensity\n",
    "nsel = [5, 10]   # no. of males and females selected per generation\n",
    "noffspring = 10  # no of offspring per female"
   ]
  },
  {
   "cell_type": "markdown",
   "metadata": {},
   "source": [
    "### Example 1: Mass selection"
   ]
  },
  {
   "cell_type": "code",
   "execution_count": 63,
   "metadata": {},
   "outputs": [
    {
     "name": "stdout",
     "output_type": "stream",
     "text": [
      "\n",
      "Mass selection\n",
      "Generation, N: 0 65\n",
      "Generation, N: 1 165\n",
      "Generation, N: 2 265\n",
      "Generation, N: 3 365\n",
      "Generation, N: 4 465\n"
     ]
    },
    {
     "data": {
      "image/png": "[encoded data removed]",
      "text/plain": [
       "<Figure size 432x288 with 1 Axes>"
      ]
     },
     "metadata": {
      "needs_background": "light"
     },
     "output_type": "display_data"
    },
    {
     "data": {
      "image/png": "[encoded data removed]",
      "text/plain": [
       "<Figure size 432x288 with 1 Axes>"
      ]
     },
     "metadata": {
      "needs_background": "light"
     },
     "output_type": "display_data"
    }
   ],
   "source": [
    "# Example 1: phenotypic selection, discrete generations, assortative mating, data kept in memory\n",
    "print('\\nMass selection')\n",
    "pop = copy.deepcopy(pop0) # init pop\n",
    "for t in range(ngen):\n",
    "    print('Generation, N: ' + str(t) + ' ' + str(len(pop.inds)))\n",
    "    # step 1: do evaluation, adds ebv to pop.inds[:].ebv\n",
    "    sel.doEbv(pop, criterion='phenotype')\n",
    "    # step 2: pedigree with offspring of selected individuals\n",
    "    newPed = sel.ReturnNewPed(pop, nsel, famsize=noffspring, mating='random',  generation=0)\n",
    "    # step 3: generates new offspring (this function adds QTN genotypes, true bvs and y)\n",
    "    pop.addPed(newPed, gfeatures, qtn, gbase)\n",
    "\n",
    "pop.plot() # plots phenotypes\n",
    "pop.plot(ebv=True) # EBVs of last generation are missing\n"
   ]
  },
  {
   "cell_type": "markdown",
   "metadata": {},
   "source": [
    "### Example 2: GBLUP using chip[0], continuous generation (up to a point)"
   ]
  },
  {
   "cell_type": "code",
   "execution_count": 64,
   "metadata": {},
   "outputs": [
    {
     "name": "stdout",
     "output_type": "stream",
     "text": [
      "\n",
      "GBLUP selection\n",
      "generation 0 65\n",
      "generation 1 165\n",
      "generation 2 265\n",
      "generation 3 365\n",
      "generation 4 465\n"
     ]
    },
    {
     "data": {
      "image/png": "[encoded data removed]",
      "text/plain": [
       "<Figure size 432x288 with 1 Axes>"
      ]
     },
     "metadata": {
      "needs_background": "light"
     },
     "output_type": "display_data"
    },
    {
     "data": {
      "image/png": "[encoded data removed]",
      "text/plain": [
       "<Figure size 432x288 with 1 Axes>"
      ]
     },
     "metadata": {
      "needs_background": "light"
     },
     "output_type": "display_data"
    }
   ],
   "source": [
    "# Example 2: GBLUP using chip[0], continuous generations\n",
    "print('\\n'+'GBLUP selection')\n",
    "pop = copy.deepcopy(pop0) # init pop\n",
    "for t in range(ngen):\n",
    "    print('generation ' + str(t) + ' ' + str(len(pop.inds)))\n",
    "    # step 0: generate marker data for evaluation\n",
    "    X = gg.do_X(pop.inds, gfeatures, gbase, chips[0], minMaf=1e-6)\n",
    "    sel.doEbv(pop, criterion='gblup', X=X, h2=0.3, nh=gfeatures.ploidy)\n",
    "    # step 2: pedigree with offspring of selected individuals\n",
    "    newPed = sel.ReturnNewPed(pop, nsel, famsize=noffspring, mating='random',  generation=0)\n",
    "    # step 3: generates new offspring (this function adds QTN genotypes, true bvs and y)\n",
    "    pop.addPed(newPed, gfeatures, qtn, gbase)\n",
    "\n",
    "# Check response: plot phenotype and EBV by generation\n",
    "pop.plot()\n",
    "pop.plot(ebv=True) # some EBVs can be missing\n"
   ]
  },
  {
   "cell_type": "markdown",
   "metadata": {},
   "source": [
    "### Example 3: BLUP evaluation when last 10 individuals have no phenotypes"
   ]
  },
  {
   "cell_type": "code",
   "execution_count": 65,
   "metadata": {},
   "outputs": [
    {
     "name": "stdout",
     "output_type": "stream",
     "text": [
      "\n",
      "BLUP evaluation with missing phenotypes\n",
      "Corr EBV, TBV = 0.16035674514745465\n"
     ]
    }
   ],
   "source": [
    "#--> Example 3: BLUP evaluation when last 10 individuals have no phenotypes\n",
    "print('\\n'+'BLUP evaluation with missing phenotypes')\n",
    "\n",
    "# phenotyped individuals (all but last 10)\n",
    "yids = np.arange(pop.n-10, dtype=np.int)\n",
    "\n",
    "# BLUP for first phenotype (default)\n",
    "itrait = 0\n",
    "sel.doEbv(pop, criterion='blup', yIds=yids, h2=0.3, itrait=itrait)\n",
    "\n",
    "# EBVs and additive genetic values of individuals with missing phenotypes\n",
    "ebv_blup_miss = np.array(list(pop.inds[i].ebv for i in range((pop.n-10),pop.n)))\n",
    "g_add_miss = np.array(list(pop.inds[i].g_add[itrait] for i in range((pop.n-10),pop.n)))\n",
    "\n",
    "print(\"Corr EBV, TBV = %s\" % np.corrcoef(ebv_blup_miss, g_add_miss)[0,1])"
   ]
  },
  {
   "cell_type": "markdown",
   "metadata": {},
   "source": [
    "### Example 4: Single Step evaluation using sequence(chip[2]) assuming last half of population is genotyped\n"
   ]
  },
  {
   "cell_type": "code",
   "execution_count": 66,
   "metadata": {},
   "outputs": [
    {
     "name": "stdout",
     "output_type": "stream",
     "text": [
      "\n",
      "Single Step evaluation\n"
     ]
    }
   ],
   "source": [
    "#--> Example 4: Single Step evaluation using sequence(chip[2]) assuming last half of population is genotyped\n",
    "print('\\n'+'Single Step evaluation')\n",
    "# genotyped individuals (last half)\n",
    "nind = len(pop.inds)\n",
    "mkrids = np.arange(nind//2,nind, dtype=np.int)\n",
    "\n",
    "# get mkr data from genotyped individuals\n",
    "X = gg.do_X([pop.inds[i] for i in mkrids], gfeatures, gbase, chips[2], minMaf=1e-6)\n",
    "\n",
    "# SS evaluation\n",
    "sel.doEbv(pop, criterion='sstep', X=X, mkrIds=mkrids, h2=0.3, nh=gfeatures.ploidy, itrait=itrait)\n",
    "\n",
    "# extract EBVs & phenotypes\n",
    "ebv_sstep = np.array(list(pop.inds[i].ebv for i in range(pop.n)))\n",
    "y = np.array(list(pop.inds[i].y[itrait] for i in range(pop.n)))\n",
    "g_add = np.array(list(pop.inds[i].g_add[itrait] for i in range(pop.n)))"
   ]
  },
  {
   "cell_type": "code",
   "execution_count": 67,
   "metadata": {},
   "outputs": [
    {
     "name": "stdout",
     "output_type": "stream",
     "text": [
      "Correlation btw SStep and BLUP EBVs = 0.8311362103234863\n",
      "Correlation btw BLUP EBVs and y = 0.770373896204115\n",
      "Correlation btw SStep EBVs and y = 0.851179941850488\n",
      "Correlation btw BLUP EBVs and g_add = 0.7659192889235072\n",
      "Correlation btw SStep EBVs and g_add = 0.6484010758834275\n"
     ]
    },
    {
     "data": {
      "image/png": "[encoded data removed]",
      "text/plain": [
       "<Figure size 432x288 with 1 Axes>"
      ]
     },
     "metadata": {
      "needs_background": "light"
     },
     "output_type": "display_data"
    },
    {
     "data": {
      "image/png": "[encoded data removed]",
      "text/plain": [
       "<Figure size 432x288 with 1 Axes>"
      ]
     },
     "metadata": {
      "needs_background": "light"
     },
     "output_type": "display_data"
    },
    {
     "data": {
      "image/png": "[encoded data removed]",
      "text/plain": [
       "<Figure size 432x288 with 1 Axes>"
      ]
     },
     "metadata": {
      "needs_background": "light"
     },
     "output_type": "display_data"
    }
   ],
   "source": [
    "# correlation between BLUP and SSTEP evaluation\n",
    "sel.doEbv(pop, criterion='blup', h2=0.3, itrait=itrait) # get blup ebv\n",
    "ebv_blup = np.array(list(pop.inds[i].ebv for i in range(pop.n)))\n",
    "print('Correlation btw SStep and BLUP EBVs = ' + str(np.corrcoef(ebv_sstep, ebv_blup)[1,0]))\n",
    "print('Correlation btw BLUP EBVs and y = ' + str(np.corrcoef(ebv_blup, y)[1,0]))\n",
    "print('Correlation btw SStep EBVs and y = ' + str(np.corrcoef(ebv_sstep, y)[1,0]))\n",
    "print('Correlation btw BLUP EBVs and g_add = ' + str(np.corrcoef(ebv_blup, g_add)[1,0]))\n",
    "print('Correlation btw SStep EBVs and g_add = ' + str(np.corrcoef(ebv_sstep, g_add)[1,0]))\n",
    "\n",
    "# plots\n",
    "plt.scatter(ebv_sstep, ebv_blup)\n",
    "plt.title('SStep vs BLUP EBV')\n",
    "plt.xlabel('Single Step')\n",
    "plt.ylabel('BLUP')\n",
    "plt.show()\n",
    "plt.close()\n",
    "\n",
    "plt.scatter(ebv_sstep, g_add)\n",
    "plt.title('SStep vs True breeding value')\n",
    "plt.xlabel('Single Step')\n",
    "plt.ylabel('g_add')\n",
    "plt.show()\n",
    "plt.close()\n",
    "\n",
    "plt.scatter(ebv_blup, g_add)\n",
    "plt.title('BLUP vs True breeding value')\n",
    "plt.xlabel('BLUP')\n",
    "plt.ylabel('g_add')\n",
    "plt.show()\n",
    "plt.close()"
   ]
  },
  {
   "cell_type": "code",
   "execution_count": 69,
   "metadata": {},
   "outputs": [
    {
     "name": "stdout",
     "output_type": "stream",
     "text": [
      "#h2 by trait 0.5\n",
      "#se by trait 7.133451936994401\n",
      "#CHR POS FRQ ADD_0 DOM_0 VA_0 VD_0\n",
      "10 76435075 0.008 -0.0025193556141806478 0.0 9.689736090896542e-08 0.0\n",
      "10 76773395 0.008 7.906341016628429 0.0 0.9542981594068066 0.0\n",
      "10 77100548 0.385 -8.663941660045706 0.0 35.53320004197659 0.0\n",
      "10 77324298 0.554 5.686414172143123e-10 0.0 1.5980146559614086e-19 0.0\n",
      "10 77391366 0.023 -0.8404000438788035 0.0 0.03184493740346977 0.0\n",
      "10 77392054 0.338 -0.6438891862030309 0.0 0.18565928841055837 0.0\n",
      "\n"
     ]
    }
   ],
   "source": [
    "#--> Appendix\n",
    "\n",
    "# determine env variance using a subset (or not of individuals)\n",
    "qtn.set_se(pop.inds[10:gbase.nbase])\n",
    "\n",
    "qtn.print(gfeatures)"
   ]
  }
 ],
 "metadata": {
  "kernelspec": {
   "display_name": "Python 3",
   "language": "python",
   "name": "python3"
  },
  "language_info": {
   "codemirror_mode": {
    "name": "ipython",
    "version": 3
   },
   "file_extension": ".py",
   "mimetype": "text/x-python",
   "name": "python",
   "nbconvert_exporter": "python",
   "pygments_lexer": "ipython3",
   "version": "3.7.1"
  }
 },
 "nbformat": 4,
 "nbformat_minor": 2
}
