{
 "cells": [
  {
   "cell_type": "markdown",
   "metadata": {},
   "source": [
    "## SeqBreed: a python tool to evaluate genomic prediction in complex scenarios\n",
    "\n",
    "### Miguel Perez-Enciso  (miguel.perez@uab.es)\n",
    "\n",
    "#### With contributions from:\n",
    "Laura M Zingaretti (m.lau.zingaretti@gmail.com), Lino Ramirez-Ayala (linocesar.ramirez@cragenomica.es)"
   ]
  },
  {
   "cell_type": "markdown",
   "metadata": {},
   "source": [
    "\n",
    "**SeqBreed is a general python3 software to simulate populations under genomic selection.** \n",
    "It inherits most of funcionality from SBVB (https://github.com/miguelperezenciso/sbvb1, doi:10.1534/g3.118.200942) software but is much more user friendly and adds numerous new features such as easy selection implementation or plots.\n",
    "\n",
    "Its original target is to simulate genomic selection experiments but can be used as well to study the performance of GWAS or in general study the dynamics of complex traits under numerous selective scenarios: mass selection, BLUP, GBLUP and single step GBLUP are currently implemented.\n",
    "\n",
    "It can accommodate any number of complex phenotypes controlled by an arbitrary number of loci (epistasis is not currently implemented though). Both strict autopolyploid and strict allopolyploid genomes can be considered."
   ]
  },
  {
   "cell_type": "markdown",
   "metadata": {},
   "source": [
    "### Main features: \n",
    "- Any number of traits.\n",
    "- Any number of QTNs, trait specific.\n",
    "- Any number of additive and dominant effects.\n",
    "- Computes genomic relationship matrices for any number of SNP arrays simultaneously.\n",
    "- It allows for polyploids\n",
    "- Any number of chromosomes, allows for sex, MT chromosomes and varying local recombination rates, that can be sex specific.\n",
    "- GWAS and PCA plots on arbitrary SNP sets\n",
    "- Allows general study the dynamics of complex traits under numerous selective scenarios: mass selection, BLUP, GBLUP and single step GBLUP are currently implemented.\n",
    "- Easy implementation of selection cycles with several evaluation criteria\n",
    "- ..."
   ]
  },
  {
   "cell_type": "code",
   "execution_count": 1,
   "metadata": {},
   "outputs": [],
   "source": [
    "# Requirements\n",
    "# scipy\n",
    "# numpy\n",
    "# pandas\n",
    "# os\n",
    "# sys\n",
    "# cython\n",
    "# seaborn\n",
    "# matplotlib\n",
    "# scilearn\n",
    "# statsmodels\n",
    "\n",
    "# sudo python3 -m pip install scipy\n",
    "# sudo python3 -m pip install numpy\n",
    "# sudo python3 -m pip install pandas\n",
    "# sudo python3 -m pip install os\n",
    "# sudo python3 -m pip install sys\n",
    "# sudo python3 -m pip install seaborn\n",
    "# sudo python3 -m pip install gzip\n",
    "# sudo python3 -m pip install pickle\n",
    "# sudo python3 -m pip install matplotlib\n",
    "# sudo python3 -m pip install scilearn\n",
    "# sudo python3 -m pip install statsmodels"
   ]
  },
  {
   "cell_type": "code",
   "execution_count": 2,
   "metadata": {},
   "outputs": [],
   "source": [
    "# INSTALL\n",
    "# clone repository\n",
    "# sudo python3 -m pip install SeqBreed-XXX.whl (From local)"
   ]
  },
  {
   "cell_type": "markdown",
   "metadata": {},
   "source": [
    "### Input\n",
    "\n",
    "- SeqBreed.py minimally requires:\n",
    "    * Genotype file in vcf format (https://en.wikipedia.org/wiki/Variant_Call_Format).\n",
    "    \n",
    "- Optionally:\n",
    "    * File with (sex) specific recombination maps: sex and mitochondrial chromosomes can be specified. Auto polyploid genomes can also be specified.\n",
    "    * A starting pedigree.\n",
    "    * A file with causal SNPs and their effects on each trait\n",
    "    * One or more lists of SNPs for each genotyping chip(s)\n"
   ]
  },
  {
   "cell_type": "markdown",
   "metadata": {},
   "source": [
    "### Usage: test example"
   ]
  },
  {
   "cell_type": "code",
   "execution_count": 3,
   "metadata": {},
   "outputs": [],
   "source": [
    "import numpy as np\n",
    "import sys\n",
    "import matplotlib.pyplot as plt\n",
    "import os\n",
    "import copy\n",
    "from SeqBreed import genome as gg\n",
    "from SeqBreed.selection import selection as sel"
   ]
  },
  {
   "cell_type": "markdown",
   "metadata": {},
   "source": [
    "### Modify folder and file names to suit your data"
   ]
  },
  {
   "cell_type": "code",
   "execution_count": 11,
   "metadata": {},
   "outputs": [],
   "source": [
    "#--> some folders\n",
    "# input file directory \n",
    "ddir=os.getcwd() + \"/test\"\n",
    "# working directory\n",
    "wdir=ddir # or choose an empty new one\n",
    "\n",
    "#--> Input files\n",
    "# pedigree file\n",
    "pedfile = ddir+'/test.ped'\n",
    "# List of files with SNP posiitons from two chips, sequence can be included from seqfile (see below)\n",
    "chipfiles = [ ddir+'/chr1.pos',  ddir+'/chip2.pos'] \n",
    "# contains qtn positions only\n",
    "qtnfile1 = ddir+'/qtn1.pos'\n",
    "# contains qtn positions and effects for two phenotypes\n",
    "qtnfile2 = ddir+'/qtn2.pos'\n",
    "# recombination map file\n",
    "mapfile = ddir+'/map.txt'\n",
    "# snp file in vcf format\n",
    "vcffile = ddir+'/f.vcf.gz'\n",
    "\n",
    "# goto working directory\n",
    "os.chdir(wdir)\n",
    "\n",
    "# seqfile contains snp positions from vcf (to be generated in next step)\n",
    "seqfile = 'seq.pos'\n"
   ]
  },
  {
   "cell_type": "code",
   "execution_count": 12,
   "metadata": {
    "scrolled": true
   },
   "outputs": [
    {
     "name": "stdout",
     "output_type": "stream",
     "text": [
      "ploidy: 2\n",
      "N base: 65\n",
      "N snps: 187\n"
     ]
    }
   ],
   "source": [
    "# uploads genotypes and generates snp positions\n",
    "gbase = gg.GFounder(vcfFile=vcffile, snpFile=seqfile)"
   ]
  },
  {
   "cell_type": "code",
   "execution_count": 13,
   "metadata": {},
   "outputs": [
    {
     "name": "stdout",
     "output_type": "stream",
     "text": [
      "65\n",
      "2\n"
     ]
    }
   ],
   "source": [
    "# no. of founder individuals and ploidy\n",
    "print(gbase.nbase)\n",
    "print(gbase.ploidy)"
   ]
  },
  {
   "cell_type": "code",
   "execution_count": 14,
   "metadata": {
    "scrolled": true
   },
   "outputs": [],
   "source": [
    "# generates Genome object with chr names, recombination map, etc\n",
    "# 'X, 'Y' and 'MT' are keywords to specify sex and mt chrs, if present. \n",
    "# The chr name used in vcf is the one to be used\n",
    "# requires snpFile generated in previous step, which simply stores snp positions\n",
    "gfeatures = gg.Genome(snpFile=seqfile, mapFile=mapfile, ploidy=gbase.ploidy,  XChr='X', YChr='Y', MTChr='MT')"
   ]
  },
  {
   "cell_type": "code",
   "execution_count": 15,
   "metadata": {},
   "outputs": [
    {
     "name": "stdout",
     "output_type": "stream",
     "text": [
      "GENOME FEATURES (ploidy = 2)\n",
      "Chr  Type   bplength    Nsnps length_m length_f\n",
      "1  Autos  4507452 88 [0.044576951704790146, 0.04457485568672104]\n",
      "10  Autos  78614306 99 [0.7821531605816539, 0.78214306]\n",
      "All        83121758  187 [0.82673011 0.82671792]\n",
      "\n"
     ]
    }
   ],
   "source": [
    "# prints some basic info\n",
    "gfeatures.print()"
   ]
  },
  {
   "cell_type": "markdown",
   "metadata": {},
   "source": [
    "### QTNs can be generated in several ways\n",
    "* read or simulate qtn information\n",
    "* h2 MUST be an array with dimension number of traits "
   ]
  },
  {
   "cell_type": "code",
   "execution_count": 16,
   "metadata": {},
   "outputs": [
    {
     "name": "stdout",
     "output_type": "stream",
     "text": [
      "QTN file  does not exist or not specified!\n",
      "QTN effects and positions randomly sampled\n"
     ]
    }
   ],
   "source": [
    "# OPTION 1: A random number of nqtn=20 additive qtls genome wide distributed,\n",
    "# additive effects are sampled from a gamma, valid only for one phenotype\n",
    "qtn1 = gg.QTNs(h2=[0.5], genome=gfeatures, nqtn=10)"
   ]
  },
  {
   "cell_type": "code",
   "execution_count": 17,
   "metadata": {},
   "outputs": [
    {
     "name": "stdout",
     "output_type": "stream",
     "text": [
      "ULL: no qtn effects defined in qtnFile and to be simulated from gamma\n"
     ]
    }
   ],
   "source": [
    "# OPTION 2: only qtn positions are read from qtnFile, no genetic effects in qtnFile\n",
    "# add effects are sampled form a gamma\n",
    "# h2 should be an array with dimension one, valid only for one phenotype\n",
    "qtn2 = gg.QTNs(h2=[0.5], genome=gfeatures, qtnFile=qtnfile1)"
   ]
  },
  {
   "cell_type": "code",
   "execution_count": 18,
   "metadata": {},
   "outputs": [],
   "source": [
    "# OPTION 3: qtn positions and effects are read from qtnFile\n",
    "# h2 should be an array with dimension # of effects, here two effects of h2 0.5 & 0.3\n",
    "qtn3 = gg.QTNs(h2=[0.5, 0.3], genome=gfeatures, qtnFile=qtnfile2)"
   ]
  },
  {
   "cell_type": "code",
   "execution_count": 19,
   "metadata": {},
   "outputs": [
    {
     "name": "stdout",
     "output_type": "stream",
     "text": [
      "#h2 by trait 0.5\n",
      "#se undefined\n",
      "10 76435075 0.008 1.9799273353782803 0.0 0.05984550067287334 0.0\n",
      "10 76773395 0.008 6.8810789116702455 0.0 0.7228464924891898 0.0\n",
      "10 77100548 0.385 -2.3791613214948786 0.0 2.679483357963199 0.0\n",
      "10 77324298 0.554 6.237706114107544e-07 0.0 1.9228862759231961e-13 0.0\n",
      "10 77391366 0.023 -0.008860378190504666 0.0 3.5397515904865865e-06 0.0\n",
      "10 77392054 0.338 -2.9121256261007082 0.0 3.797647326122627 0.0\n",
      "\n",
      "\n"
     ]
    },
    {
     "data": {
      "image/png": "[encoded data removed]",
      "text/plain": [
       "<Figure size 432x288 with 6 Axes>"
      ]
     },
     "metadata": {},
     "output_type": "display_data"
    }
   ],
   "source": [
    "# For the remaining, let us assume we use qtn2\n",
    "qtn = copy.deepcopy(qtn2)\n",
    "\n",
    "# get add and dom variance per locus, assuming equilibrium\n",
    "qtn.get_var(gfeatures,gbase)\n",
    "\n",
    "# print and plot main qtn features\n",
    "qtn.print(gfeatures)\n",
    "print()\n",
    "qtn.plot()"
   ]
  },
  {
   "cell_type": "code",
   "execution_count": 20,
   "metadata": {},
   "outputs": [
    {
     "ename": "SyntaxError",
     "evalue": "invalid syntax (<ipython-input-20-f21b6c0dc920>, line 2)",
     "output_type": "error",
     "traceback": [
      "\u001b[0;36m  File \u001b[0;32m\"<ipython-input-20-f21b6c0dc920>\"\u001b[0;36m, line \u001b[0;32m2\u001b[0m\n\u001b[0;31m    * chipfiles contains list of chips\u001b[0m\n\u001b[0m                       ^\u001b[0m\n\u001b[0;31mSyntaxError\u001b[0m\u001b[0;31m:\u001b[0m invalid syntax\n"
     ]
    }
   ],
   "source": [
    "### Chipfiles can also be generated in several ways\n",
    "* chipfiles contains list of chips \n",
    "* sequence is an additional chip \n",
    "* The next example shows how to generate chip objects "
   ]
  },
  {
   "cell_type": "code",
   "execution_count": 21,
   "metadata": {},
   "outputs": [
    {
     "name": "stdout",
     "output_type": "stream",
     "text": [
      "CHIP FEATURES /home/laura/SeqBreed-master/test/chr1.pos_chip\n",
      "Chr\tNsnps\tFirst posns ... Last\n",
      "1\t12\t\t574037 796445 985857 2912915 3019705 ... 3539284\n",
      "All 12\n",
      "\n",
      "\n",
      "CHIP FEATURES /home/laura/SeqBreed-master/test/chip2.pos_chip\n",
      "Chr\tNsnps\tFirst posns ... Last\n",
      "1\t13\t\t2548176 2816685 3034045 3093658 3205508 ... 4237238\n",
      "10\t17\t\t76328247 76592802 76646882 76668634 77084251 ... 78614306\n",
      "All 30\n",
      "\n",
      "\n",
      "CHIP FEATURES seq.pos_chip\n",
      "Chr\tNsnps\tFirst posns ... Last\n",
      "1\t88\t\t253230 342481 547671 548397 574037 ... 4507452\n",
      "10\t99\t\t75143812 75168060 75591000 75631917 75648459 ... 78614306\n",
      "All 187\n",
      "\n",
      "\n",
      "CHIP FEATURES chip_unif\n",
      "Chr\tNsnps\tFirst posns ... Last\n",
      "1\t6\t\t253230 2540247 3007286 3520202 3804104 ... 4199433\n",
      "10\t5\t\t76586207 77116769 77441988 77813185 78312200 ... 78312200\n",
      "All 11\n",
      "\n",
      "\n",
      "CHIP FEATURES chip_random\n",
      "Chr\tNsnps\tFirst posns ... Last\n",
      "1\t13\t\t547671 796445 2885749 3328105 3329944 ... 4396504\n",
      "10\t17\t\t75631917 75673205 75791114 76202424 76601276 ... 78400872\n",
      "All 30\n",
      "\n",
      "\n"
     ]
    }
   ],
   "source": [
    "# sequence is just another chip with all positions, seqfile contains vcf positions\n",
    "chipfiles.append(seqfile)\n",
    "\n",
    "# OPTION 1: generate chip objects from predefined lists of positions\n",
    "chips = []\n",
    "for file in chipfiles:\n",
    "    chip = gg.Chip(chipFile=file, genome=gfeatures, name=file+'_chip')\n",
    "    chips.append(chip) # chips is a list containing all chips\n",
    "\n",
    "# chips can also be generated from equally spaced SNPs or randomly\n",
    "# OPTION 2: here the program generates a chip with 10 equally spaced SNPs with MAF>0.10\n",
    "chip = gg.Chip(gfeatures, gbase, nsnp=10, unif=True, minMaf=0.1, name='chip_')\n",
    "chips.append(chip)\n",
    "\n",
    "# OPTION 3: or with 30 randomly spaced SNPs, any MAF\n",
    "chip = gg.Chip(gfeatures, gbase, nsnp=30, unif=False, name='chip_')\n",
    "chips.append(chip)\n",
    "\n",
    "# prints chip summary\n",
    "for chip in chips:\n",
    "    chip.print(gfeatures) "
   ]
  },
  {
   "cell_type": "markdown",
   "metadata": {},
   "source": [
    "### Generating genomes through pedigree\n",
    "* Here genotypic values and phenotypes are generated for all indivs in pedfile\n",
    "* This step also computes enviromental variance (VE) using actual genotypes found in the base population\n"
   ]
  },
  {
   "cell_type": "code",
   "execution_count": 22,
   "metadata": {},
   "outputs": [
    {
     "name": "stdout",
     "output_type": "stream",
     "text": [
      "No. of individuals is 65\n"
     ]
    }
   ],
   "source": [
    "pop = gg.Population(gfeatures, pedFile=None, qtns=qtn, gfounders=gbase)\n",
    "print('No. of individuals is '+str(len(pop.inds)))"
   ]
  },
  {
   "cell_type": "code",
   "execution_count": 23,
   "metadata": {
    "scrolled": true
   },
   "outputs": [
    {
     "name": "stdout",
     "output_type": "stream",
     "text": [
      "#h2 by trait 0.5\n",
      "#se by trait 3.875842275916409\n",
      "#CHR POS FRQ ADD_0 DOM_0 VA_0 VD_0\n",
      "10 76435075 0.008 1.9799273353782803 0.0 0.05984550067287334 0.0\n",
      "10 76773395 0.008 6.8810789116702455 0.0 0.7228464924891898 0.0\n",
      "10 77100548 0.385 -2.3791613214948786 0.0 2.679483357963199 0.0\n",
      "10 77324298 0.554 6.237706114107544e-07 0.0 1.9228862759231961e-13 0.0\n",
      "10 77391366 0.023 -0.008860378190504666 0.0 3.5397515904865865e-06 0.0\n",
      "10 77392054 0.338 -2.9121256261007082 0.0 3.797647326122627 0.0\n",
      "\n",
      "Ind Parents sex: 65 0 0  0\n",
      "Y  g_add  g_dom: -9.560087573728646 -5.940020242757312 0.0\n",
      " Chr 1\n",
      "   Pos [4507452]\n",
      "   ori [128]\n",
      "   Isnp [88]\n",
      "   Pos [4507452]\n",
      "   ori [129]\n",
      "   Isnp [88]\n",
      " Chr 10\n",
      "   Pos [78614306]\n",
      "   ori [128]\n",
      "   Isnp [99]\n",
      "   Pos [78614306]\n",
      "   ori [129]\n",
      "   Isnp [99]\n",
      "\n",
      "\n"
     ]
    }
   ],
   "source": [
    "# Indiv and pop info can be accessed\n",
    "pop.print('pop.out')          # prints pop info in file 'pop.out'\n",
    "qtn.print(gfeatures)          # prints qtn info again, now contains standard environmental deviation (se)\n",
    "pop.inds[-1].print(gfeatures) # prints summary of last individual, incl recombination blocks"
   ]
  },
  {
   "cell_type": "code",
   "execution_count": 24,
   "metadata": {},
   "outputs": [
    {
     "name": "stdout",
     "output_type": "stream",
     "text": [
      "y, add_value, dom_value, ebvb\n",
      "[[ -2.98731435  -6.47298455  -6.47298455          nan]\n",
      " [ -0.3492657   -3.56085955  -3.56085955          nan]\n",
      " [-13.97031999 -14.14343219 -14.14343219          nan]\n",
      " [ -2.10428536  -3.56085955  -3.56085955          nan]\n",
      " [ -3.79099035  -3.56085955  -3.56085955          nan]\n",
      " [ -1.57018597  -3.56085955  -3.56085955          nan]\n",
      " [-10.00984921  -3.56085955  -3.56085955          nan]\n",
      " [-12.05460046  -8.85214587  -8.85214587          nan]\n",
      " [ -8.29880276  -3.56085955  -3.56085955          nan]\n",
      " [ -2.94418443  -6.47298455  -6.47298455          nan]]\n",
      "\n",
      "Last 10 individuals\n",
      "[[56  0  0]\n",
      " [57  0  0]\n",
      " [58  0  0]\n",
      " [59  0  0]\n",
      " [60  0  0]\n",
      " [61  0  0]\n",
      " [62  0  0]\n",
      " [63  0  0]\n",
      " [64  0  0]\n",
      " [65  0  0]]\n"
     ]
    }
   ],
   "source": [
    "# v is an array containing y, add_value, dom_value and ebvb for each indiv\n",
    "v = pop.ivalues()\n",
    "# first 10 inds\n",
    "print('y, add_value, dom_value, ebvb')\n",
    "print(v[:10,:])\n",
    "\n",
    "# the current pedigree in a pop.n x 3 array can be generated as\n",
    "ped = pop.ped()\n",
    "print('\\nLast 10 individuals')\n",
    "print(ped[-10:,:])"
   ]
  },
  {
   "cell_type": "code",
   "execution_count": 25,
   "metadata": {},
   "outputs": [
    {
     "name": "stdout",
     "output_type": "stream",
     "text": [
      "65\n",
      "66\n"
     ]
    }
   ],
   "source": [
    "# pop.addRandomInd function adds a randomly generated individual \n",
    "# Perez-Enciso et al. http://www.genetics.org/content/205/2/939.long, page 949)\n",
    "# mode can be 'pedigree' or 'random'\n",
    "# k specifies number of recombination generations\n",
    "# this option can be used to artificially increase number of founders\n",
    "print(pop.n)\n",
    "pop.addRandomInd(gfeatures, gbase.nbase, k=5, mode='pedigree', qtns=qtn, gfounders=gbase)\n",
    "print(pop.n)"
   ]
  },
  {
   "cell_type": "code",
   "execution_count": 26,
   "metadata": {},
   "outputs": [
    {
     "name": "stdout",
     "output_type": "stream",
     "text": [
      "66\n",
      "67\n",
      "Ind Parents sex: 67 24 1  0\n",
      "Y  g_add  g_dom: -10.470235670006861 -8.852145245087408 0.0\n",
      " Chr 1\n",
      "   Pos [4507452]\n",
      "   ori [47]\n",
      "   Isnp [88]\n",
      "   Pos [4507452]\n",
      "   ori [1]\n",
      "   Isnp [88]\n",
      " Chr 10\n",
      "   Pos [78614306]\n",
      "   ori [46]\n",
      "   Isnp [99]\n",
      "   Pos [78614306]\n",
      "   ori [0]\n",
      "   Isnp [99]\n",
      "\n",
      "\n",
      "Ind Parents sex: 67 24 1  0\n",
      "Y  g_add  g_dom: -10.470235670006861 -8.852145245087408 0.0\n",
      " Chr 1\n",
      "   Pos [4507452]\n",
      "   ori [47]\n",
      "   Isnp [88]\n",
      "   Pos [4507452]\n",
      "   ori [1]\n",
      "   Isnp [88]\n",
      " Chr 10\n",
      "   Pos [78614306]\n",
      "   ori [46]\n",
      "   Isnp [99]\n",
      "   Pos [78614306]\n",
      "   ori [0]\n",
      "   Isnp [99]\n",
      "\n",
      "\n"
     ]
    }
   ],
   "source": [
    "# pop.addInd function adds offspring of parents \n",
    "id_papa = 23  # father is the 24th individual\n",
    "id_mama = 0   # mother is the first individual\n",
    "id_sex = 0    # it is boy (1 for a girl)\n",
    "id = pop.n+1  # the id will be population size plus one\n",
    "parents = [pop.inds[id_papa], pop.inds[id_mama]]\n",
    "print(pop.n)\n",
    "pop.addInd(parents, gfeatures, id=id, sex=id_sex, qtns=qtn, gfounders=gbase)\n",
    "print(pop.n)\n",
    "# the new individual can be accessed at position pop.n - 1 (which has been automatically updated)\n",
    "pop.inds[pop.n-1].print(gfeatures)\n",
    "# the same as\n",
    "pop.inds[-1].print(gfeatures)"
   ]
  },
  {
   "cell_type": "markdown",
   "metadata": {},
   "source": [
    "### Generating molecular data"
   ]
  },
  {
   "cell_type": "code",
   "execution_count": 27,
   "metadata": {},
   "outputs": [],
   "source": [
    "# generates genotype matrix X (nsnp x nind) for individuals second to 26th\n",
    "# for snp positions in first chip and using only markers with maf > 0.09\n",
    "X = gg.do_X(pop.inds[1:25], gfeatures, gbase, chip=chips[0], minMaf=0.09)"
   ]
  },
  {
   "cell_type": "code",
   "execution_count": 28,
   "metadata": {},
   "outputs": [
    {
     "data": {
      "text/plain": [
       "array([[1., 0., 0., 1., 0., 0., 1., 0., 0., 0.],\n",
       "       [0., 1., 0., 0., 0., 2., 1., 2., 0., 0.],\n",
       "       [0., 0., 0., 0., 0., 0., 0., 0., 0., 0.]])"
      ]
     },
     "execution_count": 28,
     "metadata": {},
     "output_type": "execute_result"
    }
   ],
   "source": [
    "# first genotypes \n",
    "X[0:3,:10]"
   ]
  },
  {
   "cell_type": "markdown",
   "metadata": {},
   "source": [
    "### 2D PCA and GWAS \n",
    "* can be used to inspect molecular data and association signals\n",
    "\n"
   ]
  },
  {
   "cell_type": "code",
   "execution_count": 29,
   "metadata": {},
   "outputs": [
    {
     "data": {
      "image/png": "[encoded data removed]",
      "text/plain": [
       "<Figure size 432x288 with 1 Axes>"
      ]
     },
     "metadata": {},
     "output_type": "display_data"
    },
    {
     "name": "stdout",
     "output_type": "stream",
     "text": [
      "[[ 3.85810042  1.83615056]\n",
      " [ 3.60584331 -0.89498636]\n",
      " [-1.88277784 -0.99211708]\n",
      " [ 5.09198149  1.91143068]\n",
      " [ 1.34061793 -0.2466696 ]\n",
      " [ 3.37137129  0.87218403]\n",
      " [ 2.56123192 -4.38543295]\n",
      " [ 0.2361758  -3.87880495]\n",
      " [ 1.97437834 -3.12271841]\n",
      " [ 4.09934133  0.94462803]]\n"
     ]
    },
    {
     "data": {
      "image/png": "[encoded data removed]",
      "text/plain": [
       "<Figure size 432x288 with 1 Axes>"
      ]
     },
     "metadata": {},
     "output_type": "display_data"
    }
   ],
   "source": [
    "# Returns 2D PCA using sequence data (third chip)\n",
    "X1 = gg.do_X(pop.inds, gfeatures, gbase, chip=chips[2])\n",
    "pca = sel.Pca(X1)\n",
    "pca.fit()\n",
    "pca.plot()\n",
    "pca.plot(plotFile='pca.pdf') # PCA in pdf file\n",
    "\n",
    "# PCA values can be accessed as (eg for first 10 indivs)\n",
    "print(pca.p[:10,:])\n",
    "\n",
    "# Compare PCA with usinng last chip\n",
    "X2 = gg.do_X(pop.inds, gfeatures, gbase, chip=chips[-1])\n",
    "pca = sel.Pca(X2)\n",
    "pca.fit()\n",
    "pca.plot()"
   ]
  },
  {
   "cell_type": "markdown",
   "metadata": {},
   "source": [
    "### Implementing GWAS"
   ]
  },
  {
   "cell_type": "code",
   "execution_count": 30,
   "metadata": {},
   "outputs": [
    {
     "data": {
      "image/png": "[encoded data removed]",
      "text/plain": [
       "<Figure size 432x288 with 1 Axes>"
      ]
     },
     "metadata": {},
     "output_type": "display_data"
    },
    {
     "data": {
      "image/png": "[encoded data removed]",
      "text/plain": [
       "<Figure size 432x288 with 1 Axes>"
      ]
     },
     "metadata": {},
     "output_type": "display_data"
    }
   ],
   "source": [
    "# by default, first phenotype\n",
    "gwas = sel.Gwas(X1, chips[2])\n",
    "gwas.fit(inds=pop.inds, trait=0)   \n",
    "gwas.plot()         # plots pvalue\n",
    "gwas.plot(fdr=True) # plots FDR"
   ]
  },
  {
   "cell_type": "markdown",
   "metadata": {},
   "source": [
    "### SELECTION\n",
    "Implementing selection in cycles \n"
   ]
  },
  {
   "cell_type": "code",
   "execution_count": 31,
   "metadata": {},
   "outputs": [],
   "source": [
    "# current pop is saved as pop0\n",
    "pop0 = copy.deepcopy(pop)\n",
    "\n",
    "# First let us specify selection intensity\n",
    "nsel = [5, 10]   # no. of males and females selected per generation\n",
    "noffspring = 10  # no of offspring per female"
   ]
  },
  {
   "cell_type": "markdown",
   "metadata": {},
   "source": [
    "### Example 1: Mass selection"
   ]
  },
  {
   "cell_type": "code",
   "execution_count": 33,
   "metadata": {},
   "outputs": [
    {
     "name": "stdout",
     "output_type": "stream",
     "text": [
      "\n",
      "Mass selection\n",
      "Generation, N: 0 67\n",
      "Generation, N: 1 167\n",
      "Generation, N: 2 267\n",
      "Generation, N: 3 367\n",
      "Generation, N: 4 467\n"
     ]
    },
    {
     "data": {
      "image/png": "[encoded data removed]",
      "text/plain": [
       "<Figure size 432x288 with 1 Axes>"
      ]
     },
     "metadata": {},
     "output_type": "display_data"
    },
    {
     "data": {
      "image/png": "[encoded data removed]",
      "text/plain": [
       "<Figure size 432x288 with 1 Axes>"
      ]
     },
     "metadata": {},
     "output_type": "display_data"
    }
   ],
   "source": [
    "# Example 1: phenotypic selection, discrete generations, assortative mating, data kept in memory\n",
    "print('\\nMass selection')\n",
    "ngen=5\n",
    "pop = copy.deepcopy(pop0) # init pop\n",
    "for t in range(ngen):\n",
    "    print('Generation, N: ' + str(t) + ' ' + str(len(pop.inds)))\n",
    "    # step 1: do evaluation, adds ebv to pop.inds[:].ebv\n",
    "    sel.doEbv(pop, criterion='phenotype')\n",
    "    # step 2: pedigree with offspring of selected individuals\n",
    "    newPed = sel.ReturnNewPed(pop, nsel, famsize=noffspring, mating='random',  generation=0)\n",
    "    # step 3: generates new offspring (this function adds QTN genotypes, true bvs and y)\n",
    "    pop.addPed(newPed, gfeatures, qtn, gbase)\n",
    "\n",
    "pop.plot() # plots phenotypes\n",
    "pop.plot(ebv=True) # EBVs of last generation are missing\n"
   ]
  },
  {
   "cell_type": "markdown",
   "metadata": {},
   "source": [
    "### Example 2: GBLUP using chip[0], continuous generation (up to a point)"
   ]
  },
  {
   "cell_type": "code",
   "execution_count": 34,
   "metadata": {},
   "outputs": [
    {
     "name": "stdout",
     "output_type": "stream",
     "text": [
      "\n",
      "GBLUP selection\n",
      "generation 0 67\n",
      "generation 1 167\n",
      "generation 2 267\n",
      "generation 3 367\n",
      "generation 4 467\n"
     ]
    },
    {
     "data": {
      "image/png": "[encoded data removed]",
      "text/plain": [
       "<Figure size 432x288 with 1 Axes>"
      ]
     },
     "metadata": {},
     "output_type": "display_data"
    },
    {
     "data": {
      "image/png": "[encoded data removed]",
      "text/plain": [
       "<Figure size 432x288 with 1 Axes>"
      ]
     },
     "metadata": {},
     "output_type": "display_data"
    }
   ],
   "source": [
    "# Example 2: GBLUP using chip[0], continuous generations\n",
    "print('\\n'+'GBLUP selection')\n",
    "pop = copy.deepcopy(pop0) # init pop\n",
    "for t in range(ngen):\n",
    "    print('generation ' + str(t) + ' ' + str(len(pop.inds)))\n",
    "    # step 0: generate marker data for evaluation\n",
    "    X = gg.do_X(pop.inds, gfeatures, gbase, chips[0], minMaf=1e-6)\n",
    "    sel.doEbv(pop, criterion='gblup', X=X, h2=0.3, nh=gfeatures.ploidy)\n",
    "    # step 2: pedigree with offspring of selected individuals\n",
    "    newPed = sel.ReturnNewPed(pop, nsel, famsize=noffspring, mating='random',  generation=0)\n",
    "    # step 3: generates new offspring (this function adds QTN genotypes, true bvs and y)\n",
    "    pop.addPed(newPed, gfeatures, qtn, gbase)\n",
    "\n",
    "# Check response: plot phenotype and EBV by generation\n",
    "pop.plot()\n",
    "pop.plot(ebv=True) # some EBVs can be missing\n"
   ]
  },
  {
   "cell_type": "markdown",
   "metadata": {},
   "source": [
    "### Example 3: BLUP evaluation when last 10 individuals have no phenotypes"
   ]
  },
  {
   "cell_type": "code",
   "execution_count": 35,
   "metadata": {},
   "outputs": [
    {
     "name": "stdout",
     "output_type": "stream",
     "text": [
      "\n",
      "BLUP evaluation with missing phenotypes\n",
      "Corr EBV, TBV = -0.3579169947954395\n"
     ]
    }
   ],
   "source": [
    "#--> Example 3: BLUP evaluation when last 10 individuals have no phenotypes\n",
    "print('\\n'+'BLUP evaluation with missing phenotypes')\n",
    "\n",
    "# phenotyped individuals (all but last 10)\n",
    "yids = np.arange(pop.n-10, dtype=np.int)\n",
    "\n",
    "# BLUP for first phenotype (default)\n",
    "itrait = 0\n",
    "sel.doEbv(pop, criterion='blup', yIds=yids, h2=0.3, itrait=itrait)\n",
    "\n",
    "# EBVs and additive genetic values of individuals with missing phenotypes\n",
    "ebv_blup_miss = np.array(list(pop.inds[i].ebv for i in range((pop.n-10),pop.n)))\n",
    "g_add_miss = np.array(list(pop.inds[i].g_add[itrait] for i in range((pop.n-10),pop.n)))\n",
    "\n",
    "print(\"Corr EBV, TBV = %s\" % np.corrcoef(ebv_blup_miss, g_add_miss)[0,1])"
   ]
  },
  {
   "cell_type": "markdown",
   "metadata": {},
   "source": [
    "### Example 4: Single Step evaluation using sequence(chip[2]) assuming last half of population is genotyped\n"
   ]
  },
  {
   "cell_type": "code",
   "execution_count": 36,
   "metadata": {},
   "outputs": [
    {
     "name": "stdout",
     "output_type": "stream",
     "text": [
      "\n",
      "Single Step evaluation\n"
     ]
    }
   ],
   "source": [
    "#--> Example 4: Single Step evaluation using sequence(chip[2]) assuming last half of population is genotyped\n",
    "print('\\n'+'Single Step evaluation')\n",
    "# genotyped individuals (last half)\n",
    "nind = len(pop.inds)\n",
    "mkrids = np.arange(nind//2,nind, dtype=np.int)\n",
    "\n",
    "# get mkr data from genotyped individuals\n",
    "X = gg.do_X([pop.inds[i] for i in mkrids], gfeatures, gbase, chips[2], minMaf=1e-6)\n",
    "\n",
    "# SS evaluation\n",
    "sel.doEbv(pop, criterion='sstep', X=X, mkrIds=mkrids, h2=0.3, nh=gfeatures.ploidy, itrait=itrait)\n",
    "\n",
    "# extract EBVs & phenotypes\n",
    "ebv_sstep = np.array(list(pop.inds[i].ebv for i in range(pop.n)))\n",
    "y = np.array(list(pop.inds[i].y[itrait] for i in range(pop.n)))\n",
    "g_add = np.array(list(pop.inds[i].g_add[itrait] for i in range(pop.n)))"
   ]
  },
  {
   "cell_type": "code",
   "execution_count": 37,
   "metadata": {},
   "outputs": [
    {
     "name": "stdout",
     "output_type": "stream",
     "text": [
      "Correlation btw SStep and BLUP EBVs = 0.9112152300222235\n",
      "Correlation btw BLUP EBVs and y = 0.7872923459673893\n",
      "Correlation btw SStep EBVs and y = 0.742795196314526\n",
      "Correlation btw BLUP EBVs and g_add = 0.8342941388538724\n",
      "Correlation btw SStep EBVs and g_add = 0.9164071806434994\n"
     ]
    },
    {
     "data": {
      "image/png": "[encoded data removed]",
      "text/plain": [
       "<Figure size 432x288 with 1 Axes>"
      ]
     },
     "metadata": {},
     "output_type": "display_data"
    },
    {
     "data": {
      "image/png": "[encoded data removed]",
      "text/plain": [
       "<Figure size 432x288 with 1 Axes>"
      ]
     },
     "metadata": {},
     "output_type": "display_data"
    },
    {
     "data": {
      "image/png": "[encoded data removed]",
      "text/plain": [
       "<Figure size 432x288 with 1 Axes>"
      ]
     },
     "metadata": {},
     "output_type": "display_data"
    }
   ],
   "source": [
    "# correlation between BLUP and SSTEP evaluation\n",
    "sel.doEbv(pop, criterion='blup', h2=0.3, itrait=itrait) # get blup ebv\n",
    "ebv_blup = np.array(list(pop.inds[i].ebv for i in range(pop.n)))\n",
    "print('Correlation btw SStep and BLUP EBVs = ' + str(np.corrcoef(ebv_sstep, ebv_blup)[1,0]))\n",
    "print('Correlation btw BLUP EBVs and y = ' + str(np.corrcoef(ebv_blup, y)[1,0]))\n",
    "print('Correlation btw SStep EBVs and y = ' + str(np.corrcoef(ebv_sstep, y)[1,0]))\n",
    "print('Correlation btw BLUP EBVs and g_add = ' + str(np.corrcoef(ebv_blup, g_add)[1,0]))\n",
    "print('Correlation btw SStep EBVs and g_add = ' + str(np.corrcoef(ebv_sstep, g_add)[1,0]))\n",
    "\n",
    "# plots\n",
    "plt.scatter(ebv_sstep, ebv_blup)\n",
    "plt.title('SStep vs BLUP EBV')\n",
    "plt.xlabel('Single Step')\n",
    "plt.ylabel('BLUP')\n",
    "plt.show()\n",
    "plt.close()\n",
    "\n",
    "plt.scatter(ebv_sstep, g_add)\n",
    "plt.title('SStep vs True breeding value')\n",
    "plt.xlabel('Single Step')\n",
    "plt.ylabel('g_add')\n",
    "plt.show()\n",
    "plt.close()\n",
    "\n",
    "plt.scatter(ebv_blup, g_add)\n",
    "plt.title('BLUP vs True breeding value')\n",
    "plt.xlabel('BLUP')\n",
    "plt.ylabel('g_add')\n",
    "plt.show()\n",
    "plt.close()"
   ]
  },
  {
   "cell_type": "code",
   "execution_count": 38,
   "metadata": {},
   "outputs": [
    {
     "name": "stdout",
     "output_type": "stream",
     "text": [
      "#h2 by trait 0.5\n",
      "#se by trait 3.9083434737268536\n",
      "#CHR POS FRQ ADD_0 DOM_0 VA_0 VD_0\n",
      "10 76435075 0.008 1.9799273353782803 0.0 0.05984550067287334 0.0\n",
      "10 76773395 0.008 6.8810789116702455 0.0 0.7228464924891898 0.0\n",
      "10 77100548 0.385 -2.3791613214948786 0.0 2.679483357963199 0.0\n",
      "10 77324298 0.554 6.237706114107544e-07 0.0 1.9228862759231961e-13 0.0\n",
      "10 77391366 0.023 -0.008860378190504666 0.0 3.5397515904865865e-06 0.0\n",
      "10 77392054 0.338 -2.9121256261007082 0.0 3.797647326122627 0.0\n",
      "\n"
     ]
    }
   ],
   "source": [
    "#--> Appendix\n",
    "\n",
    "# determine env variance using a subset (or not of individuals)\n",
    "qtn.set_se(pop.inds[10:gbase.nbase])\n",
    "\n",
    "qtn.print(gfeatures)"
   ]
  },
  {
   "cell_type": "code",
   "execution_count": null,
   "metadata": {},
   "outputs": [],
   "source": []
  }
 ],
 "metadata": {
  "kernelspec": {
   "display_name": "Python 3",
   "language": "python",
   "name": "python3"
  },
  "language_info": {
   "codemirror_mode": {
    "name": "ipython",
    "version": 3
   },
   "file_extension": ".py",
   "mimetype": "text/x-python",
   "name": "python",
   "nbconvert_exporter": "python",
   "pygments_lexer": "ipython3",
   "version": "3.6.5"
  }
 },
 "nbformat": 4,
 "nbformat_minor": 2
}
